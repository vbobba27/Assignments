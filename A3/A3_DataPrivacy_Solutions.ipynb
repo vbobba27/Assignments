{
 "cells": [
  {
   "cell_type": "markdown",
   "metadata": {
    "nbgrader": {
     "grade": false,
     "grade_id": "title",
     "locked": true,
     "schema_version": 1,
     "solution": false
    }
   },
   "source": [
    "# COGS 108 - Assignment 3: Data Privacy\n",
    "\n",
    "### Written By: Liz Izhikevich and Harshita Mangal"
   ]
  },
  {
   "cell_type": "markdown",
   "metadata": {
    "nbgrader": {
     "grade": false,
     "grade_id": "important",
     "locked": true,
     "schema_version": 1,
     "solution": false
    }
   },
   "source": [
    "## Important\n",
    "\n",
    "- Rename this file to 'A3_A########.ipynb' (filled in with your student ID) before you submit it. Submit it to TritonED.\n",
    "- Do not change / update / delete any existing cells with 'assert' in them. These are the tests used to check your assignment. \n",
    "    - Changing these will be flagged for attempted cheating. \n",
    "- This assignment has hidden tests: tests that are not visible here, but that will be run on your submitted. \n",
    "    - This means passing all the tests you can see in the notebook here does not guarantee you have the right answer!"
   ]
  },
  {
   "cell_type": "markdown",
   "metadata": {
    "nbgrader": {
     "grade": false,
     "grade_id": "overview",
     "locked": true,
     "schema_version": 1,
     "solution": false
    }
   },
   "source": [
    "## Overview\n",
    "\n",
    "We have discussed in lecture the importance and the mechanics of protecting individuals privacy when they are included in datasets. In particular, in Lecture 11 (April 26th) we introduced the concept of the Safe Harbor Method. The Safe Harbour method specifies how to protect individual's identities by telling us which tells us which information to remove from a dataset in order to avoid accidently disclosing personal information. \n",
    "\n",
    "In this assignment, we will explore how identity can be decoded from badly anonymized datasets, and also explore using Safe Harbour to anonymize datasets properly. "
   ]
  },
  {
   "cell_type": "markdown",
   "metadata": {
    "nbgrader": {
     "grade": false,
     "grade_id": "imports",
     "locked": true,
     "schema_version": 1,
     "solution": false
    }
   },
   "source": [
    "### Import Statements"
   ]
  },
  {
   "cell_type": "code",
   "execution_count": 1,
   "metadata": {
    "collapsed": false,
    "nbgrader": {
     "grade": false,
     "grade_id": "import-code",
     "locked": true,
     "schema_version": 1,
     "solution": false
    }
   },
   "outputs": [],
   "source": [
    "# Import Pandas\n",
    "# Note: Pandas is all you need! Do not import any other functions / packages.\n",
    "import pandas as pd"
   ]
  },
  {
   "cell_type": "markdown",
   "metadata": {
    "nbgrader": {
     "grade": false,
     "grade_id": "p1-title",
     "locked": true,
     "schema_version": 1,
     "solution": false
    }
   },
   "source": [
    "## Part 1: Identifying Data"
   ]
  },
  {
   "cell_type": "markdown",
   "metadata": {
    "nbgrader": {
     "grade": false,
     "grade_id": "p1-desc",
     "locked": true,
     "schema_version": 1,
     "solution": false
    }
   },
   "source": [
    "Data Files:\n",
    "- anon_user_dat.json\n",
    "- employee_info.json\n",
    "\n",
    "You will first be working with a file called 'anon_user_dat.json'. This file that contains information about some (fake) Tinder users. When creating an account, each Tinder user was asked to provide their first name, last name, work email (to verify the disclosed workplace), age, gender, phone # and zip code. Before releasing this data, a data scientist cleaned the data to protect the privacy of Tinder's users by removing the obvious personal identifiers: phone #, zip code, and IP address. However, the data scientist chose to keep each users' email addresses because when they visually skimmed a couple of the email addresses none of them seemed to have any of the user's actual names in them. This is where the data scientist made a huge mistake!\n",
    "\n",
    "We will take advantage of having the work email addresses by finding the employee information of different companies and matching that employee information with the information we have, in order to identify the names of the secret Tinder users!"
   ]
  },
  {
   "cell_type": "code",
   "execution_count": 2,
   "metadata": {
    "collapsed": false,
    "nbgrader": {
     "grade": false,
     "grade_id": "1a",
     "locked": false,
     "schema_version": 1,
     "solution": true
    }
   },
   "outputs": [],
   "source": [
    "##################################\n",
    "# 1a) Load in the 'cleaned' data #\n",
    "##################################\n",
    "\n",
    "# Load the json file into a pandas dataframe. Call it 'df_personal'.\n",
    "\n",
    "### BEGIN SOLUTION\n",
    "df_personal = pd.read_json('anon_user_dat.json')\n",
    "### END SOLUTION"
   ]
  },
  {
   "cell_type": "code",
   "execution_count": 3,
   "metadata": {
    "collapsed": true,
    "nbgrader": {
     "grade": true,
     "grade_id": "1a-tests",
     "locked": true,
     "points": 0.5,
     "schema_version": 1,
     "solution": false
    }
   },
   "outputs": [],
   "source": [
    "assert isinstance(df_personal, pd.DataFrame)\n",
    "\n",
    "### BEGIN HIDDEN TESTS\n",
    "assert list(df_personal.columns) == ['age', 'email', 'gender']\n",
    "### END HIDDEN TESTS"
   ]
  },
  {
   "cell_type": "code",
   "execution_count": 4,
   "metadata": {
    "collapsed": false,
    "nbgrader": {
     "grade": false,
     "grade_id": "1b",
     "locked": false,
     "schema_version": 1,
     "solution": true
    }
   },
   "outputs": [
    {
     "name": "stdout",
     "output_type": "stream",
     "text": [
      "0    gshoreson0@seattletimes.com\n",
      "1             eweaben1@salon.com\n",
      "2        akillerby2@gravatar.com\n",
      "3              gsainz3@zdnet.com\n",
      "4       bdanilewicz4@4shared.com\n",
      "5      sdeerness5@wikispaces.com\n",
      "6         jstillwell6@ustream.tv\n",
      "7         mpriestland7@opera.com\n",
      "8       nerickssen8@hatena.ne.jp\n",
      "9             hparsell9@xing.com\n",
      "Name: email, dtype: object\n"
     ]
    }
   ],
   "source": [
    "#################################\n",
    "# 1b) Check the first 10 emails #\n",
    "#################################\n",
    "\n",
    "# Save the first 10 emails to a Series, and call it 'sample_emails'. \n",
    "# You should then and print out this Series. \n",
    "# The purpose of this is to get a sense of how these work emails are structured\n",
    "#   and how we could possibly extract where each anonymous user seems to work\n",
    "\n",
    "### BEGIN SOLUTION\n",
    "sample_emails = df_personal['email'][:10]\n",
    "print(sample_emails)\n",
    "### END SOLUTION"
   ]
  },
  {
   "cell_type": "code",
   "execution_count": 5,
   "metadata": {
    "collapsed": true,
    "nbgrader": {
     "grade": true,
     "grade_id": "1b-tests",
     "locked": true,
     "points": 1,
     "schema_version": 1,
     "solution": false
    }
   },
   "outputs": [],
   "source": [
    "assert isinstance(sample_emails, pd.Series)\n",
    "\n",
    "### BEGIN HIDDEN TESTS\n",
    "assert list(sample_emails) == ['gshoreson0@seattletimes.com', \n",
    "                               'eweaben1@salon.com', 'akillerby2@gravatar.com', \n",
    "                               'gsainz3@zdnet.com', 'bdanilewicz4@4shared.com', \n",
    "                               'sdeerness5@wikispaces.com', 'jstillwell6@ustream.tv', \n",
    "                               'mpriestland7@opera.com', 'nerickssen8@hatena.ne.jp', \n",
    "                               'hparsell9@xing.com']\n",
    "### END HIDDEN TESTS"
   ]
  },
  {
   "cell_type": "code",
   "execution_count": 6,
   "metadata": {
    "collapsed": true,
    "nbgrader": {
     "grade": false,
     "grade_id": "1c",
     "locked": false,
     "schema_version": 1,
     "solution": true
    }
   },
   "outputs": [],
   "source": [
    "###############################################\n",
    "# 1c) Extract the Company Name From the Email #\n",
    "###############################################\n",
    "\n",
    "# Create a function with the following specifications:\n",
    "#   Function Name: extract_company\n",
    "#   Purpose: to extract the company of the email \n",
    "#          (i.e., everything after the @ sign but before the .com )\n",
    "#   Parameter(s): email (string)\n",
    "#   Returns: The extracted part of the email (string)\n",
    "#   Hint: This should take 1 line of code. Look into the find('') method. \n",
    "#\n",
    "# You can start with this outline:\n",
    "#   def extract_company(email):\n",
    "#      return \n",
    "#\n",
    "# Example Usage: \n",
    "#   extract_company(\"larhe@uber.com\") should return \"uber\"\n",
    "\n",
    "### BEGIN SOLUTION\n",
    "def extract_company(email):\n",
    "    return(email[email.find('@')+1:email.find('.')])\n",
    "### END SOLUTION"
   ]
  },
  {
   "cell_type": "code",
   "execution_count": 7,
   "metadata": {
    "collapsed": false,
    "nbgrader": {
     "grade": true,
     "grade_id": "1c-tests",
     "locked": true,
     "points": 1,
     "schema_version": 1,
     "solution": false
    }
   },
   "outputs": [],
   "source": [
    "assert extract_company(\"gshoreson0@seattletimes.com\") == \"seattletimes\"\n",
    "\n",
    "### BEGIN HIDDEN TESTS\n",
    "assert [extract_company(\"123@hey.com\"),\n",
    "        extract_company(\"whatsup@nothing.com\")] == [\"hey\",\"nothing\"]\n",
    "### END HIDDEN TESTS"
   ]
  },
  {
   "cell_type": "markdown",
   "metadata": {
    "nbgrader": {
     "grade": false,
     "grade_id": "info",
     "locked": true,
     "schema_version": 1,
     "solution": false
    }
   },
   "source": [
    "With a little bit of basic sleuthing (aka googling) and web-scraping (aka selectively reading in html code) it turns out that you've been able to collect information about all the present employees/interns of the companies you are interested in. Specifically, on each company website, you have found the name, gender, and age of its employees. You have saved that info in employee_info.json and plan to see if, using this new information, you can match the Tinder accounts to actual names."
   ]
  },
  {
   "cell_type": "code",
   "execution_count": 8,
   "metadata": {
    "collapsed": false,
    "nbgrader": {
     "grade": false,
     "grade_id": "1d",
     "locked": false,
     "schema_version": 1,
     "solution": true
    }
   },
   "outputs": [],
   "source": [
    "#############################\n",
    "# 1d) Load in employee data #\n",
    "#############################\n",
    "\n",
    "# Load the json file into a pandas dataframe. Call it 'df_employee'.\n",
    "\n",
    "### BEGIN SOLUTION\n",
    "df_employee = pd.read_json('employee_info.json')\n",
    "### END SOLUTION"
   ]
  },
  {
   "cell_type": "code",
   "execution_count": 9,
   "metadata": {
    "collapsed": true,
    "nbgrader": {
     "grade": true,
     "grade_id": "1d-tests",
     "locked": true,
     "points": 0.5,
     "schema_version": 1,
     "solution": false
    }
   },
   "outputs": [],
   "source": [
    "assert isinstance(df_personal, pd.DataFrame)\n",
    "\n",
    "### BEGIN HIDDEN TESTS\n",
    "assert list(df_employee.columns) == ['age', 'company', 'first_name', 'gender', 'last_name']\n",
    "### END HIDDEN TESTS"
   ]
  },
  {
   "cell_type": "code",
   "execution_count": 10,
   "metadata": {
    "collapsed": true,
    "nbgrader": {
     "grade": false,
     "grade_id": "1e",
     "locked": false,
     "schema_version": 1,
     "solution": true
    }
   },
   "outputs": [],
   "source": [
    "#########################################################\n",
    "# 1e) Match the employee name with company, age, gender #\n",
    "#########################################################\n",
    "\n",
    "# Create a function with the following specifications:\n",
    "#   Function name: employee_matcher\n",
    "#   Purpose: to match the employee name with the provided company, age, and gender\n",
    "#   Parameter(s): company (string), age (int), gender (string)\n",
    "#   Returns: The employee first_name and last_name like this: return first_name, last_name \n",
    "#   Note: If there are multiple employees that fit the same description, first_name and \n",
    "#         last_name should return a list of all possible first names and last name\n",
    "#         i.e., ['Desmund', 'Kelby'], ['Shepley', 'Tichner']\n",
    "#\n",
    "# Hint:\n",
    "# There are many different ways to code this.\n",
    "# 1) An unelegant solution is to loop through df_employee \n",
    "#    and for each data item see if the company, age, and gender match\n",
    "#    i.e., for i in range(0, len(df_employee)):\n",
    "#              if (company == df_employee.ix[i,'company']):\n",
    "#\n",
    "# However! The solution above is very inefficient and long, \n",
    "# so you should try to look into this:\n",
    "# 2) Google the df.loc method: It extracts pieces of the dataframe\n",
    "#    if it fulfills a certain condition.\n",
    "#    i.e., df_employee.loc[df_employee['company'] == company]\n",
    "#    If you need to convert your pandas data series into a list,\n",
    "#    you can do list(result) where result is a pandas \"series\"\n",
    "# \n",
    "# You can start with this outline:\n",
    "#   def employee_matcher(company, age, gender):\n",
    "#      return first_name, last_name\n",
    "\n",
    "### BEGIN SOLUTION\n",
    "def employee_matcher(company, age, gender):\n",
    "    \n",
    "    result = (df_employee.loc[((df_employee['company'] == company) & \n",
    "                          (df_employee['age'] == age) & \n",
    "                          (df_employee['gender'] == gender))])\n",
    "    \n",
    "    first_name = list(result.first_name)\n",
    "    last_name = list(result.last_name)\n",
    "    \n",
    "    return first_name, last_name \n",
    "### END SOLUTION"
   ]
  },
  {
   "cell_type": "code",
   "execution_count": 11,
   "metadata": {
    "collapsed": false,
    "nbgrader": {
     "grade": true,
     "grade_id": "1e-tests",
     "locked": true,
     "points": 1,
     "schema_version": 1,
     "solution": false
    }
   },
   "outputs": [],
   "source": [
    "assert employee_matcher(\"google\", 41, \"Male\") == (['Ab'], ['Tetley'])\n",
    "assert employee_matcher(\"google\", 42, \"Male\") == (['Desmund', 'Kelby'],\n",
    "                                                  ['Shepley', 'Tichner'])\n",
    "### BEGIN HIDDEN TESTS\n",
    "assert [employee_matcher(\"yandex\", 18, \"Male\"),\n",
    "        employee_matcher(\"microsoft\", 70,\"Female\")] == [(['Lennard'], ['Ducroe']),\n",
    "                                                        (['Dianne'], ['Heilds'])]\n",
    "### END HIDDEN TESTS"
   ]
  },
  {
   "cell_type": "code",
   "execution_count": 12,
   "metadata": {
    "collapsed": false,
    "nbgrader": {
     "grade": false,
     "grade_id": "1f",
     "locked": false,
     "schema_version": 1,
     "solution": true
    }
   },
   "outputs": [],
   "source": [
    "####################################\n",
    "# 1f) Extract all the private Data #\n",
    "####################################\n",
    "\n",
    "# - Create 2 empty lists called 'first_names' and 'last_names'\n",
    "# - Loop through all the people we are trying to identify in df_personal\n",
    "# - Call the extract_company function (i.e., extract_company(df_personal.ix[i, 'email']) )\n",
    "# - Call the employee_matcher function \n",
    "# - Append the results of employee_matcher to the appropriate lists (first_names and last_names)\n",
    "\n",
    "### BEGIN SOLUTION\n",
    "first_names = []\n",
    "last_names = []\n",
    "\n",
    "#Loop through people we are trying to identify\n",
    "for i in range(0, len(df_personal)):\n",
    "    \n",
    "    company = extract_company(df_personal.ix[i, 'email'])\n",
    "    \n",
    "    first_name, last_name = employee_matcher(company,\n",
    "                                             df_personal.ix[i,'age'],\n",
    "                                             df_personal.ix[i,'gender'])\n",
    "    \n",
    "    first_names.append(first_name)\n",
    "    last_names.append(last_name)\n",
    "### END SOLUTION"
   ]
  },
  {
   "cell_type": "code",
   "execution_count": 13,
   "metadata": {
    "collapsed": false,
    "nbgrader": {
     "grade": true,
     "grade_id": "1f-tests",
     "locked": true,
     "points": 1,
     "schema_version": 1,
     "solution": false
    }
   },
   "outputs": [],
   "source": [
    "assert first_names[45:50]== [['Justino'], ['Tadio'], ['Kennith'], ['Cedric'], ['Amargo']]\n",
    "assert last_names[45:50] == [['Corro'], ['Blackford'], ['Milton'], ['Yggo'], ['Grigor']]\n",
    "\n",
    "### BEGIN HIDDEN TESTS\n",
    "assert [last_names[733:740],\n",
    "        first_names[0:7]] == [[['Stanger'], ['Gohier'], ['Ricketts'], ['Woltman'], \n",
    "                               ['Itzakovitz'], ['Farny'],\n",
    "                               ['St Angel']] ,\n",
    "                              [['Gordon'],['Elenore'], ['Abbe'], ['Guido'],\n",
    "                               ['Brody'], ['Shalne'], ['Joell']]]\n",
    "### END HIDDEN TESTS"
   ]
  },
  {
   "cell_type": "code",
   "execution_count": 14,
   "metadata": {
    "collapsed": true,
    "nbgrader": {
     "grade": true,
     "grade_id": "1g",
     "locked": false,
     "points": 0,
     "schema_version": 1,
     "solution": true
    }
   },
   "outputs": [],
   "source": [
    "#######################################################\n",
    "# 1g) Add the names to the original 'secure' dataset! #\n",
    "#######################################################\n",
    "\n",
    "# We have done this last step for you below, all you should do is uncomment.\n",
    "# For your own personal enjoyment, you should also print out\n",
    "#   the new df_personal with the identified people. \n",
    "#\n",
    "# df_personal['first_name'] = first_names\n",
    "# df_personal['last_name'] = last_names"
   ]
  },
  {
   "cell_type": "markdown",
   "metadata": {
    "nbgrader": {
     "grade": false,
     "grade_id": "wrap-p1",
     "locked": true,
     "schema_version": 1,
     "solution": false
    }
   },
   "source": [
    "We have now just discovered the 'anonymous' identities of all the registered Tinder users...awkward."
   ]
  },
  {
   "cell_type": "markdown",
   "metadata": {
    "nbgrader": {
     "grade": false,
     "grade_id": "p2-title",
     "locked": true,
     "schema_version": 1,
     "solution": false
    }
   },
   "source": [
    "## Part 2: Anonymize Data"
   ]
  },
  {
   "cell_type": "markdown",
   "metadata": {
    "nbgrader": {
     "grade": false,
     "grade_id": "p2-desc",
     "locked": true,
     "schema_version": 1,
     "solution": false
    }
   },
   "source": [
    "You are hopefully now convinced that with some seemingly harmless data a hacker can pretty easily discover the identities of certain users. Thus, we will now clean the original Tinder data ourselves according to the Safe Harbor Method in order to make sure that it has been *properly* cleaned..."
   ]
  },
  {
   "cell_type": "code",
   "execution_count": 15,
   "metadata": {
    "collapsed": false,
    "nbgrader": {
     "grade": false,
     "grade_id": "2a",
     "locked": false,
     "schema_version": 1,
     "solution": true
    }
   },
   "outputs": [],
   "source": [
    "#############################\n",
    "# 2a) Load in personal data #\n",
    "#############################\n",
    "\n",
    "# Load the user_dat.json file into a pandas dataframe. Call it 'df_users'.\n",
    "# Note: You might find that using the same method as A2 (or above) leads to an error.\n",
    "# The file has a slightly different organization. \n",
    "#   Try googling the error and finding the fix for it.\n",
    "# Hint: you can still use 'pd.read_json', you just need to add another argument.\n",
    "\n",
    "### BEGIN SOLUTION\n",
    "df_users = pd.read_json('user_dat.json', lines=True)\n",
    "### END SOLUTION"
   ]
  },
  {
   "cell_type": "code",
   "execution_count": 16,
   "metadata": {
    "collapsed": false,
    "nbgrader": {
     "grade": true,
     "grade_id": "2a-tests",
     "locked": true,
     "points": 0.5,
     "schema_version": 1,
     "solution": false
    }
   },
   "outputs": [],
   "source": [
    "assert isinstance(df_users, pd.DataFrame)\n",
    "\n",
    "### BEGIN HIDDEN TESTS\n",
    "assert list(df_users.columns) == ['age', 'email', 'first_name',\n",
    "                                  'gender', 'ip_address', 'last_name',\n",
    "                                  'phone', 'zip']\n",
    "### END HIDDEN TESTS"
   ]
  },
  {
   "cell_type": "code",
   "execution_count": 17,
   "metadata": {
    "collapsed": true,
    "nbgrader": {
     "grade": false,
     "grade_id": "2b",
     "locked": false,
     "schema_version": 1,
     "solution": true
    }
   },
   "outputs": [],
   "source": [
    "################################\n",
    "# 2b) Drop personal attributes #\n",
    "################################\n",
    "\n",
    "# Remove any personal information, following the Safe Harbour method.\n",
    "# Based on lecture 11, remove any columns from df_personal that contain personal information.\n",
    "\n",
    "### BEGIN SOLUTION\n",
    "df_users = df_users.drop(['email', 'first_name', 'ip_address', 'last_name', 'phone'], axis=1)\n",
    "### END SOLUTION"
   ]
  },
  {
   "cell_type": "code",
   "execution_count": 18,
   "metadata": {
    "collapsed": true,
    "nbgrader": {
     "grade": true,
     "grade_id": "2b-tests",
     "locked": true,
     "points": 0.5,
     "schema_version": 1,
     "solution": false
    }
   },
   "outputs": [],
   "source": [
    "assert len(df_users.columns) == 3\n",
    "\n",
    "### BEGIN HIDDEN TESTS\n",
    "assert list(df_users.columns) == ['age', 'gender', 'zip']\n",
    "### END HIDDEN TESTS"
   ]
  },
  {
   "cell_type": "code",
   "execution_count": 19,
   "metadata": {
    "collapsed": false,
    "nbgrader": {
     "grade": false,
     "grade_id": "2c",
     "locked": false,
     "schema_version": 1,
     "solution": true
    }
   },
   "outputs": [],
   "source": [
    "###################################\n",
    "# 2c) Drop ages that are above 90 #\n",
    "###################################\n",
    "\n",
    "# Safe Harbour rule C:\n",
    "#   Drop all the rows which have age greater than 90 from df_personal\n",
    "\n",
    "### BEGIN SOLUTION\n",
    "df_users = df_users[df_users['age'] <= 90]\n",
    "### END SOLUTION"
   ]
  },
  {
   "cell_type": "code",
   "execution_count": 20,
   "metadata": {
    "collapsed": false,
    "nbgrader": {
     "grade": true,
     "grade_id": "2c-tests",
     "locked": true,
     "points": 0.5,
     "schema_version": 1,
     "solution": false
    }
   },
   "outputs": [],
   "source": [
    "assert df_users.shape==(990, 3)\n",
    "\n",
    "### BEGIN HIDDEN TESTS\n",
    "assert max(df_users['age']) <= 90\n",
    "### END HIDDEN TESTS"
   ]
  },
  {
   "cell_type": "code",
   "execution_count": 21,
   "metadata": {
    "collapsed": false,
    "nbgrader": {
     "grade": false,
     "grade_id": "2d",
     "locked": false,
     "schema_version": 1,
     "solution": true
    }
   },
   "outputs": [],
   "source": [
    "#############################\n",
    "# 2d) Load in zip code data #\n",
    "#############################\n",
    "\n",
    "# Load the zip_pop.csv file into a (different) pandas dataframe. Call it 'df_zip'.\n",
    "\n",
    "### BEGIN SOLUTION\n",
    "df_zip = pd.read_csv('zip_pop.csv')\n",
    "### END SOLUTION"
   ]
  },
  {
   "cell_type": "code",
   "execution_count": 22,
   "metadata": {
    "collapsed": false,
    "nbgrader": {
     "grade": true,
     "grade_id": "2d-tests",
     "locked": true,
     "points": 0.5,
     "schema_version": 1,
     "solution": false
    }
   },
   "outputs": [],
   "source": [
    "assert isinstance(df_zip, pd.DataFrame)\n",
    "\n",
    "### BEGIN HIDDEN TESTS\n",
    "assert list(df_zip.columns) == ['zip', 'population']\n",
    "### END HIDDEN TESTS"
   ]
  },
  {
   "cell_type": "code",
   "execution_count": 52,
   "metadata": {
    "collapsed": false,
    "nbgrader": {
     "grade": false,
     "grade_id": "2e",
     "locked": false,
     "schema_version": 1,
     "solution": true
    }
   },
   "outputs": [],
   "source": [
    "###################################################\n",
    "# 2e) Sort zipcodes into \"Geographic Subdivision\" #\n",
    "###################################################\n",
    "\n",
    "# The Safe Harbour Method applies to \"Geographic Subdivisions\"\n",
    "#   as opposed to each zipcode itself. \n",
    "# Geographic Subdivision:\n",
    "#   All areas which share the first 3 digits of a zip code\n",
    "#\n",
    "# Count the total population for each geographic subdivision\n",
    "# Warning: you have to be savy with a dictionary here\n",
    "# To understand how a dictionary works, check the section materials,\n",
    "#   use google and go to discussion sections!\n",
    "#\n",
    "# Instructions: \n",
    "# - Create an empty dictionary: zip_dict = {}\n",
    "# - Loop through all the zip_codes in df_zip\n",
    "# - Create a dictionary key for the first 3 digits of a zip_code in zip_dict\n",
    "# - Continually add population counts to the key that contains the \n",
    "#     same first 3 digits of the zip code\n",
    "#\n",
    "# To extract the population you will find this code useful:\n",
    "#   population = list(df_zip.loc[df_zip['zip'] == zip_code]['population'])\n",
    "# To extract the first 3 digits of a zip_code you will find this code useful:\n",
    "#   int(str(zip_code)[:3])\n",
    "\n",
    "### BEGIN SOLUTION\n",
    "zip_dict = {}\n",
    "\n",
    "for zip_code in df_zip['zip']:\n",
    "    \n",
    "    population = list(df_zip.loc[df_zip['zip'] == zip_code]['population'])\n",
    "    three_digits = int(str(zip_code)[:3])\n",
    "    \n",
    "    zip_dict.setdefault(three_digits, 0)\n",
    "    zip_dict[three_digits] = zip_dict[three_digits] + population[0]\n",
    "### END SOLUTION"
   ]
  },
  {
   "cell_type": "code",
   "execution_count": 24,
   "metadata": {
    "collapsed": false,
    "nbgrader": {
     "grade": true,
     "grade_id": "2e-tests",
     "locked": true,
     "points": 1.25,
     "schema_version": 1,
     "solution": false
    }
   },
   "outputs": [],
   "source": [
    "assert isinstance(zip_dict, dict)\n",
    "assert zip_dict[100] == 1580423\n",
    "\n",
    "### BEGIN HIDDEN TESTS\n",
    "assert zip_dict[953] == 1023396\n",
    "assert len(zip_dict) == 842\n",
    "### END HIDDEN TESTS"
   ]
  },
  {
   "cell_type": "code",
   "execution_count": 25,
   "metadata": {
    "collapsed": false,
    "nbgrader": {
     "grade": false,
     "grade_id": "2f",
     "locked": true,
     "schema_version": 1,
     "solution": false
    }
   },
   "outputs": [],
   "source": [
    "#################################\n",
    "# 2f) Explain this Code Excerpt #\n",
    "#################################\n",
    "\n",
    "# In the cell below, explain in words what what the following line of code is doing:\n",
    "population = list(df_zip.loc[df_zip['zip'] == zip_code]['population'])"
   ]
  },
  {
   "cell_type": "code",
   "execution_count": 26,
   "metadata": {
    "collapsed": false,
    "nbgrader": {
     "grade": true,
     "grade_id": "2f-write",
     "locked": false,
     "points": 0,
     "schema_version": 1,
     "solution": true
    }
   },
   "outputs": [],
   "source": [
    "#Explanation: "
   ]
  },
  {
   "cell_type": "code",
   "execution_count": 27,
   "metadata": {
    "collapsed": false,
    "nbgrader": {
     "grade": false,
     "grade_id": "2g",
     "locked": false,
     "schema_version": 1,
     "solution": true
    }
   },
   "outputs": [],
   "source": [
    "#############################\n",
    "# 2g) Masking the Zip Codes #\n",
    "#############################\n",
    "\n",
    "# Go through each user, and update their zip-code, to Safe Harbour specifications:\n",
    "#   If the user is from a zip code for the which the\n",
    "#     \"Geographic Subdivision\" is less than equal to 20000:\n",
    "#        - Change the zip code to 0 \n",
    "#   Otherwise:\n",
    "#         - Change the zip code to be only the first 3 numbers of the full zip cide\n",
    "# Do all this re-writting the zip_code columns of the 'df_users' DataFrame\n",
    "#\n",
    "# Hints:\n",
    "#  - This will be several lines of code, looping through the DataFrame, \n",
    "#      getting each zip code, checking the geographic subdivision with \n",
    "#      the population in zip_dict, and settig the zip_code accordingly. \n",
    "\n",
    "### BEGIN SOLUTION\n",
    "for i in df_users.index:\n",
    "    \n",
    "    zip_code = df_users.ix[i,'zip']\n",
    "    zip_code = int(str(zip_code)[:3])\n",
    "    \n",
    "    if zip_dict[zip_code] < 20000:\n",
    "        df_users.ix[i,'zip'] = 0\n",
    "    else:\n",
    "        df_users.ix[i,'zip'] = zip_code\n",
    "### END SOLUTION"
   ]
  },
  {
   "cell_type": "code",
   "execution_count": 28,
   "metadata": {
    "collapsed": false,
    "nbgrader": {
     "grade": true,
     "grade_id": "2g-tests",
     "locked": true,
     "points": 1.25,
     "schema_version": 1,
     "solution": false
    }
   },
   "outputs": [],
   "source": [
    "assert len(df_users) == 990\n",
    "assert sum(df_users.zip == 0) == 2\n",
    "assert df_users.ix[671, 'zip'] == 0\n",
    "\n",
    "### BEGIN HIDDEN TESTS\n",
    "assert df_users.ix[273, 'zip'] == 0\n",
    "assert df_users.ix[67, 'zip'] == 875\n",
    "### END HIDDEN TESTS"
   ]
  },
  {
   "cell_type": "code",
   "execution_count": 29,
   "metadata": {
    "collapsed": true,
    "nbgrader": {
     "grade": false,
     "grade_id": "2h",
     "locked": false,
     "schema_version": 1,
     "solution": true
    }
   },
   "outputs": [],
   "source": [
    "##########################################################\n",
    "# 2h) Save out the properly anonymized data to json file #\n",
    "##########################################################\n",
    "\n",
    "# Save out df_users as a json file, called 'real_anon_user_dat.json'\n",
    "\n",
    "### BEGIN SOLUTION\n",
    "df_users.to_json('real_anon_user_dat.json')\n",
    "### END SOLUTION"
   ]
  },
  {
   "cell_type": "code",
   "execution_count": 30,
   "metadata": {
    "collapsed": false,
    "nbgrader": {
     "grade": true,
     "grade_id": "2h-tests",
     "locked": true,
     "points": 0.5,
     "schema_version": 1,
     "solution": false
    }
   },
   "outputs": [],
   "source": [
    "assert isinstance(pd.read_json('real_anon_user_dat.json'), pd.DataFrame)"
   ]
  },
  {
   "cell_type": "markdown",
   "metadata": {
    "nbgrader": {
     "grade": false,
     "grade_id": "finish",
     "locked": true,
     "schema_version": 1,
     "solution": false
    }
   },
   "source": [
    "Congrats, you're done! The users identities are much more protected now. \n",
    "\n",
    "Submit this notebook file to TritonED."
   ]
  }
 ],
 "metadata": {
  "celltoolbar": "Create Assignment",
  "kernelspec": {
   "display_name": "Python 3",
   "language": "python",
   "name": "python3"
  },
  "language_info": {
   "codemirror_mode": {
    "name": "ipython",
    "version": 3
   },
   "file_extension": ".py",
   "mimetype": "text/x-python",
   "name": "python",
   "nbconvert_exporter": "python",
   "pygments_lexer": "ipython3",
   "version": "3.6.0"
  }
 },
 "nbformat": 4,
 "nbformat_minor": 2
}
